{
 "cells": [
  {
   "cell_type": "code",
   "execution_count": 28,
   "id": "84fd906b",
   "metadata": {},
   "outputs": [],
   "source": [
    "import os\n",
    "from urllib import request\n",
    "from src.ML_ops_end_end_ import logger\n",
    "import zipfile\n"
   ]
  },
  {
   "cell_type": "code",
   "execution_count": 29,
   "id": "50bc2fa9",
   "metadata": {},
   "outputs": [],
   "source": [
    "from dataclasses import dataclass\n",
    "from pathlib import Path\n",
    "\n",
    "@dataclass\n",
    "class DataIngestionConfig:\n",
    "    root_dir: Path\n",
    "    source_URL: str \n",
    "    local_data_file: Path\n",
    "    unzip_dir: Path"
   ]
  },
  {
   "cell_type": "code",
   "execution_count": 10,
   "id": "48b04770",
   "metadata": {},
   "outputs": [],
   "source": [
    "import os \n",
    "os.chdir(\"../\")"
   ]
  },
  {
   "cell_type": "code",
   "execution_count": 20,
   "id": "c11b2496",
   "metadata": {},
   "outputs": [
    {
     "data": {
      "text/plain": [
       "'c:\\\\Users\\\\gerar\\\\OneDrive\\\\Desktop\\\\projects\\\\MLops\\\\MLOPS'"
      ]
     },
     "execution_count": 20,
     "metadata": {},
     "output_type": "execute_result"
    }
   ],
   "source": [
    "\n",
    "os.chdir(\"MLOPS\")\n",
    "\n",
    "%pwd\n"
   ]
  },
  {
   "cell_type": "code",
   "execution_count": 19,
   "id": "c856c5e8",
   "metadata": {},
   "outputs": [
    {
     "data": {
      "text/plain": [
       "'c:\\\\Users\\\\gerar\\\\OneDrive\\\\Desktop\\\\projects\\\\MLops'"
      ]
     },
     "execution_count": 19,
     "metadata": {},
     "output_type": "execute_result"
    }
   ],
   "source": [
    "%pwd"
   ]
  },
  {
   "cell_type": "code",
   "execution_count": 30,
   "id": "2bec7aa6",
   "metadata": {},
   "outputs": [
    {
     "name": "stdout",
     "output_type": "stream",
     "text": [
      "src exists: False\n",
      "module exists: False\n"
     ]
    }
   ],
   "source": [
    "import sys\n",
    "from pathlib import Path\n",
    "\n",
    "# Fix: Point to the src/ inside MLOPS/\n",
    "src_path = Path().resolve() / \"MLOPS\" / \"src\"\n",
    "sys.path.append(str(src_path))\n",
    "\n",
    "# Confirm\n",
    "print(\"src exists:\", src_path.exists())\n",
    "print(\"module exists:\", (src_path / \"ML_ops_end_end_\" / \"constants\" / \"__init__.py\").exists())\n"
   ]
  },
  {
   "cell_type": "code",
   "execution_count": 32,
   "id": "79e76313",
   "metadata": {},
   "outputs": [],
   "source": [
    "from ML_ops_end_end_.constants import *\n",
    "from ML_ops_end_end_.utils.common import read_yaml ,  create_directories\n"
   ]
  },
  {
   "cell_type": "code",
   "execution_count": 33,
   "id": "5e875960",
   "metadata": {},
   "outputs": [],
   "source": [
    "class ConfigurationManager:\n",
    "    def __init__(self, config_filepath=CONFIG_FILE_PATH,\n",
    "                 params_filepath=PARAMS_FILE_PATH,\n",
    "                 schema_filepath=SCHEMA_FILE_PATH):\n",
    "        self.config = read_yaml(config_filepath)\n",
    "        self.params = read_yaml(params_filepath)\n",
    "        self.schema = read_yaml(schema_filepath)\n",
    "\n",
    "        create_directories([self.config.artifacts_root])\n",
    "    \n",
    "    def get_data_ingestion_config(self) -> DataIngestionConfig:\n",
    "        config=self.config.data_ingestion\n",
    "        create_directories([config.root_dir])\n",
    "\n",
    "        data_ingestion_config = DataIngestionConfig(\n",
    "            root_dir = config.root_dir,\n",
    "            source_URL = config.source_URL,\n",
    "            local_data_file = config.local_data_file,\n",
    "            unzip_dir = config.unzip_dir\n",
    "        )\n",
    "        return data_ingestion_config\n",
    "\n"
   ]
  },
  {
   "cell_type": "code",
   "execution_count": 34,
   "id": "5613219b",
   "metadata": {},
   "outputs": [],
   "source": [
    "##component - data ingestion\n",
    "class DataIngestion:\n",
    "    def __init__(self, config: DataIngestionConfig):\n",
    "        self.config = config\n",
    "\n",
    "\n",
    "    #downlaoding the file from the source URL\n",
    "    def download_file(self):\n",
    "        if not os.path.exists(self.config.local_data_file):\n",
    "            filename , headers = request.urlretrieve(\n",
    "                url=self.config.source_URL,\n",
    "                filename=self.config.local_data_file\n",
    "            )\n",
    "            logger.info(f\"{filename} downloaded with headers:\\n  {headers}\")\n",
    "\n",
    "        else:\n",
    "            logger.info(\"file already exists\")\n",
    "\n",
    "\n",
    "    #unzip the file\n",
    "    def extract_zip_file(self):\n",
    "      \"\"\"\n",
    "          zip_file_path: str\n",
    "          extracts the zip file into the data directory \n",
    "          function returns none\n",
    "      \"\"\"\n",
    "      unzip_path = self.config.unzip_dir\n",
    "      os.makedirs(unzip_path, exist_ok=True)\n",
    "      with zipfile.ZipFile(self.config.local_data_file, 'r') as zip_ref:\n",
    "          zip_ref.extractall(unzip_path)\n",
    "      \n",
    "\n",
    "\n"
   ]
  },
  {
   "cell_type": "code",
   "execution_count": 36,
   "id": "d89253c7",
   "metadata": {},
   "outputs": [
    {
     "name": "stdout",
     "output_type": "stream",
     "text": [
      "[2025-07-12 09:58:27,162 - INFO - common  - yaml file: config\\config.yaml loaded successfully]\n",
      "[2025-07-12 09:58:27,164 - INFO - common  - yaml file: params.yaml loaded successfully]\n",
      "[2025-07-12 09:58:27,165 - INFO - common  - yaml file: schema.yaml loaded successfully]\n",
      "[2025-07-12 09:58:27,166 - INFO - common  - created directory at: artifacts]\n",
      "[2025-07-12 09:58:27,167 - INFO - common  - created directory at: artifacts/data_ingestion]\n",
      "[2025-07-12 09:58:28,146 - INFO - 3148028957  - winequality-data.zip downloaded with headers:\n",
      "  Connection: close\n",
      "Content-Length: 23329\n",
      "Cache-Control: max-age=300\n",
      "Content-Security-Policy: default-src 'none'; style-src 'unsafe-inline'; sandbox\n",
      "Content-Type: application/zip\n",
      "ETag: \"c69888a4ae59bc5a893392785a938ccd4937981c06ba8a9d6a21aa52b4ab5b6e\"\n",
      "Strict-Transport-Security: max-age=31536000\n",
      "X-Content-Type-Options: nosniff\n",
      "X-Frame-Options: deny\n",
      "X-XSS-Protection: 1; mode=block\n",
      "X-GitHub-Request-Id: 9158:303B46:3D0CF:11E439:6871E46B\n",
      "Accept-Ranges: bytes\n",
      "Date: Sat, 12 Jul 2025 04:28:27 GMT\n",
      "Via: 1.1 varnish\n",
      "X-Served-By: cache-maa10242-MAA\n",
      "X-Cache: MISS\n",
      "X-Cache-Hits: 0\n",
      "X-Timer: S1752294507.428203,VS0,VE231\n",
      "Vary: Authorization,Accept-Encoding\n",
      "Access-Control-Allow-Origin: *\n",
      "Cross-Origin-Resource-Policy: cross-origin\n",
      "X-Fastly-Request-ID: 573f01c6044014391bb6f0720e45d36ed0b0a877\n",
      "Expires: Sat, 12 Jul 2025 04:33:27 GMT\n",
      "Source-Age: 0\n",
      "\n",
      "]\n"
     ]
    }
   ],
   "source": [
    "try:\n",
    "    config = ConfigurationManager()\n",
    "    data_ingestion_config = config.get_data_ingestion_config()\n",
    "    data_ingestion= DataIngestion(config=data_ingestion_config)\n",
    "    data_ingestion.download_file()\n",
    "    data_ingestion.extract_zip_file()\n",
    "\n",
    "except Exception as e:\n",
    "    logger.exception(e)\n",
    "    raise e\n"
   ]
  }
 ],
 "metadata": {
  "kernelspec": {
   "display_name": ".venv",
   "language": "python",
   "name": "python3"
  },
  "language_info": {
   "codemirror_mode": {
    "name": "ipython",
    "version": 3
   },
   "file_extension": ".py",
   "mimetype": "text/x-python",
   "name": "python",
   "nbconvert_exporter": "python",
   "pygments_lexer": "ipython3",
   "version": "3.12.10"
  }
 },
 "nbformat": 4,
 "nbformat_minor": 5
}
