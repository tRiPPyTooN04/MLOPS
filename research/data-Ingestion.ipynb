{
 "cells": [
  {
   "cell_type": "code",
   "execution_count": 28,
   "id": "84fd906b",
   "metadata": {},
   "outputs": [],
   "source": [
    "import os\n",
    "from urllib import request\n",
    "from src.ML_ops_end_end_ import logger\n",
    "import zipfile\n"
   ]
  },
  {
   "cell_type": "code",
   "execution_count": 29,
   "id": "50bc2fa9",
   "metadata": {},
   "outputs": [],
   "source": [
    "from dataclasses import dataclass\n",
    "from pathlib import Path\n",
    "\n",
    "@dataclass\n",
    "class DataIngestionConfig:\n",
    "    root_dir: Path\n",
    "    source_URL: str \n",
    "    local_data_file: Path\n",
    "    unzip_dir: Path"
   ]
  },
  {
   "cell_type": "code",
   "execution_count": 10,
   "id": "48b04770",
   "metadata": {},
   "outputs": [],
   "source": [
    "import os \n",
    "os.chdir(\"../\")"
   ]
  },
  {
   "cell_type": "code",
   "execution_count": 20,
   "id": "c11b2496",
   "metadata": {},
   "outputs": [
    {
     "data": {
      "text/plain": [
       "'c:\\\\Users\\\\gerar\\\\OneDrive\\\\Desktop\\\\projects\\\\MLops\\\\MLOPS'"
      ]
     },
     "execution_count": 20,
     "metadata": {},
     "output_type": "execute_result"
    }
   ],
   "source": [
    "\n",
    "os.chdir(\"MLOPS\")\n",
    "\n",
    "%pwd\n"
   ]
  },
  {
   "cell_type": "code",
   "execution_count": 19,
   "id": "c856c5e8",
   "metadata": {},
   "outputs": [
    {
     "data": {
      "text/plain": [
       "'c:\\\\Users\\\\gerar\\\\OneDrive\\\\Desktop\\\\projects\\\\MLops'"
      ]
     },
     "execution_count": 19,
     "metadata": {},
     "output_type": "execute_result"
    }
   ],
   "source": [
    "%pwd"
   ]
  },
  {
   "cell_type": "code",
   "execution_count": 30,
   "id": "2bec7aa6",
   "metadata": {},
   "outputs": [
    {
     "name": "stdout",
     "output_type": "stream",
     "text": [
      "src exists: False\n",
      "module exists: False\n"
     ]
    }
   ],
   "source": [
    "import sys\n",
    "from pathlib import Path\n",
    "\n",
    "# Fix: Point to the src/ inside MLOPS/\n",
    "src_path = Path().resolve() / \"MLOPS\" / \"src\"\n",
    "sys.path.append(str(src_path))\n",
    "\n",
    "# Confirm\n",
    "print(\"src exists:\", src_path.exists())\n",
    "print(\"module exists:\", (src_path / \"ML_ops_end_end_\" / \"constants\" / \"__init__.py\").exists())\n"
   ]
  },
  {
   "cell_type": "code",
   "execution_count": 32,
   "id": "79e76313",
   "metadata": {},
   "outputs": [],
   "source": [
    "from ML_ops_end_end_.constants import *\n",
    "from ML_ops_end_end_.utils.common import read_yaml ,  create_directories\n"
   ]
  },
  {
   "cell_type": "code",
   "execution_count": 33,
   "id": "5e875960",
   "metadata": {},
   "outputs": [],
   "source": [
    "class ConfigurationManager:\n",
    "    def __init__(self, config_filepath=CONFIG_FILE_PATH,\n",
    "                 params_filepath=PARAMS_FILE_PATH,\n",
    "                 schema_filepath=SCHEMA_FILE_PATH):\n",
    "        self.config = read_yaml(config_filepath)\n",
    "        self.params = read_yaml(params_filepath)\n",
    "        self.schema = read_yaml(schema_filepath)\n",
    "\n",
    "        create_directories([self.config.artifacts_root])\n",
    "    \n",
    "    def get_data_ingestion_config(self) -> DataIngestionConfig:\n",
    "        config=self.config.data_ingestion\n",
    "        create_directories([config.root_dir])\n",
    "\n",
    "        data_ingestion_config = DataIngestionConfig(\n",
    "            root_dir = config.root_dir,\n",
    "            source_URL = config.source_URL,\n",
    "            local_data_file = config.local_data_file,\n",
    "            unzip_dir = config.unzip_dir\n",
    "        )\n",
    "        return data_ingestion_config\n",
    "\n"
   ]
  },
  {
   "cell_type": "code",
   "execution_count": 34,
   "id": "5613219b",
   "metadata": {},
   "outputs": [],
   "source": [
    "##component - data ingestion\n",
    "class DataIngestion:\n",
    "    def __init__(self, config: DataIngestionConfig):\n",
    "        self.config = config\n",
    "\n",
    "\n",
    "    #downlaoding the file from the source URL\n",
    "    def download_file(self):\n",
    "        if not os.path.exists(self.config.local_data_file):\n",
    "            filename , headers = request.urlretrieve(\n",
    "                url=self.config.source_URL,\n",
    "                filename=self.config.local_data_file\n",
    "            )\n",
    "            logger.info(f\"{filename} downloaded with headers:\\n  {headers}\")\n",
    "\n",
    "        else:\n",
    "            logger.info(\"file already exists\")\n",
    "\n",
    "\n",
    "    #unzip the file\n",
    "    def extract_zip_file(self):\n",
    "      \"\"\"\n",
    "          zip_file_path: str\n",
    "          extracts the zip file into the data directory \n",
    "          function returns none\n",
    "      \"\"\"\n",
    "      unzip_path = self.config.unzip_dir\n",
    "      os.makedirs(unzip_path, exist_ok=True)\n",
    "      with zipfile.ZipFile(self.config.local_data_file, 'r') as zip_ref:\n",
    "          zip_ref.extractall(unzip_path)\n",
    "      \n",
    "\n",
    "\n"
   ]
  },
  {
   "cell_type": "code",
   "execution_count": 35,
   "id": "d89253c7",
   "metadata": {},
   "outputs": [
    {
     "name": "stdout",
     "output_type": "stream",
     "text": [
      "[2025-07-12 09:54:55,628 - INFO - common  - yaml file: config\\config.yaml loaded successfully]\n",
      "[2025-07-12 09:54:55,629 - INFO - common  - yaml file: params.yaml loaded successfully]\n",
      "[2025-07-12 09:54:55,631 - INFO - common  - yaml file: schema.yaml loaded successfully]\n",
      "[2025-07-12 09:54:55,632 - INFO - common  - created directory at: artifacts]\n",
      "[2025-07-12 09:54:55,633 - ERROR - 1933320454  - 'str' object has no attribute 'root_dir']\n",
      "Traceback (most recent call last):\n",
      "  File \"C:\\Users\\gerar\\AppData\\Local\\Temp\\ipykernel_27664\\1933320454.py\", line 3, in <module>\n",
      "    data_ingestion_config = config.get_data_ingestion_config()\n",
      "                            ^^^^^^^^^^^^^^^^^^^^^^^^^^^^^^^^^^\n",
      "  File \"C:\\Users\\gerar\\AppData\\Local\\Temp\\ipykernel_27664\\3583118546.py\", line 13, in get_data_ingestion_config\n",
      "    create_directories([config.root_dir])\n",
      "                        ^^^^^^^^^^^^^^^\n",
      "AttributeError: 'str' object has no attribute 'root_dir'\n"
     ]
    },
    {
     "ename": "AttributeError",
     "evalue": "'str' object has no attribute 'root_dir'",
     "output_type": "error",
     "traceback": [
      "\u001b[31m---------------------------------------------------------------------------\u001b[39m",
      "\u001b[31mAttributeError\u001b[39m                            Traceback (most recent call last)",
      "\u001b[36mCell\u001b[39m\u001b[36m \u001b[39m\u001b[32mIn[35]\u001b[39m\u001b[32m, line 10\u001b[39m\n\u001b[32m      8\u001b[39m \u001b[38;5;28;01mexcept\u001b[39;00m \u001b[38;5;167;01mException\u001b[39;00m \u001b[38;5;28;01mas\u001b[39;00m e:\n\u001b[32m      9\u001b[39m     logger.exception(e)\n\u001b[32m---> \u001b[39m\u001b[32m10\u001b[39m     \u001b[38;5;28;01mraise\u001b[39;00m e\n",
      "\u001b[36mCell\u001b[39m\u001b[36m \u001b[39m\u001b[32mIn[35]\u001b[39m\u001b[32m, line 3\u001b[39m\n\u001b[32m      1\u001b[39m \u001b[38;5;28;01mtry\u001b[39;00m:\n\u001b[32m      2\u001b[39m     config = ConfigurationManager()\n\u001b[32m----> \u001b[39m\u001b[32m3\u001b[39m     data_ingestion_config = \u001b[43mconfig\u001b[49m\u001b[43m.\u001b[49m\u001b[43mget_data_ingestion_config\u001b[49m\u001b[43m(\u001b[49m\u001b[43m)\u001b[49m\n\u001b[32m      4\u001b[39m     data_ingestion= DataIngestion(config=data_ingestion_config)\n\u001b[32m      5\u001b[39m     data_ingestion.download_file()\n",
      "\u001b[36mCell\u001b[39m\u001b[36m \u001b[39m\u001b[32mIn[33]\u001b[39m\u001b[32m, line 13\u001b[39m, in \u001b[36mConfigurationManager.get_data_ingestion_config\u001b[39m\u001b[34m(self)\u001b[39m\n\u001b[32m     11\u001b[39m \u001b[38;5;28;01mdef\u001b[39;00m\u001b[38;5;250m \u001b[39m\u001b[34mget_data_ingestion_config\u001b[39m(\u001b[38;5;28mself\u001b[39m) -> DataIngestionConfig:\n\u001b[32m     12\u001b[39m     config=\u001b[38;5;28mself\u001b[39m.config.data_ingestion\n\u001b[32m---> \u001b[39m\u001b[32m13\u001b[39m     create_directories([\u001b[43mconfig\u001b[49m\u001b[43m.\u001b[49m\u001b[43mroot_dir\u001b[49m])\n\u001b[32m     15\u001b[39m     data_ingestion_config = DataIngestionConfig(\n\u001b[32m     16\u001b[39m         root_dir = config.root_dir,\n\u001b[32m     17\u001b[39m         source_URL = config.source_URL,\n\u001b[32m     18\u001b[39m         local_data_file = config.local_data_file,\n\u001b[32m     19\u001b[39m         unzip_dir = config.unzip_dir\n\u001b[32m     20\u001b[39m     )\n\u001b[32m     21\u001b[39m     \u001b[38;5;28;01mreturn\u001b[39;00m data_ingestion_config\n",
      "\u001b[31mAttributeError\u001b[39m: 'str' object has no attribute 'root_dir'"
     ]
    }
   ],
   "source": [
    "try:\n",
    "    config = ConfigurationManager()\n",
    "    data_ingestion_config = config.get_data_ingestion_config()\n",
    "    data_ingestion= DataIngestion(config=data_ingestion_config)\n",
    "    data_ingestion.download_file()\n",
    "    data_ingestion.extract_zip_file()\n",
    "\n",
    "except Exception as e:\n",
    "    logger.exception(e)\n",
    "    raise e\n"
   ]
  }
 ],
 "metadata": {
  "kernelspec": {
   "display_name": ".venv",
   "language": "python",
   "name": "python3"
  },
  "language_info": {
   "codemirror_mode": {
    "name": "ipython",
    "version": 3
   },
   "file_extension": ".py",
   "mimetype": "text/x-python",
   "name": "python",
   "nbconvert_exporter": "python",
   "pygments_lexer": "ipython3",
   "version": "3.12.10"
  }
 },
 "nbformat": 4,
 "nbformat_minor": 5
}
